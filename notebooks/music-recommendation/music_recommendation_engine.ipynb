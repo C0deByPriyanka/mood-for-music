{
 "cells": [
  {
   "cell_type": "code",
   "execution_count": 1,
   "metadata": {},
   "outputs": [],
   "source": [
    "import pandas as pd\n",
    "import numpy as np\n",
    "from sklearn.preprocessing import StandardScaler\n",
    "from tensorflow.keras.models import load_model\n",
    "import joblib\n",
    "import os\n",
    "from tensorflow.keras.preprocessing import image\n",
    "from tensorflow.keras.applications.vgg16 import preprocess_input"
   ]
  },
  {
   "cell_type": "code",
   "execution_count": 2,
   "metadata": {},
   "outputs": [],
   "source": [
    "# Load mood classification model\n",
    "mood_model = load_model('../../models/mood_cnn_model.h5')"
   ]
  },
  {
   "cell_type": "code",
   "execution_count": 3,
   "metadata": {},
   "outputs": [],
   "source": [
    "# Load music data\n",
    "music_data = pd.read_csv('../../data/data_moods.csv')"
   ]
  },
  {
   "cell_type": "code",
   "execution_count": 4,
   "metadata": {},
   "outputs": [],
   "source": [
    "# Feature selection\n",
    "features = ['popularity', 'length', 'danceability', 'acousticness', 'energy', \n",
    "            'instrumentalness', 'liveness', 'valence', 'loudness', \n",
    "            'speechiness', 'tempo', 'key', 'time_signature']\n",
    "X_music = music_data[features]\n",
    "y_music = music_data['mood']"
   ]
  },
  {
   "cell_type": "code",
   "execution_count": 5,
   "metadata": {},
   "outputs": [],
   "source": [
    "# Normalize features\n",
    "scaler = StandardScaler()\n",
    "X_music_scaled = scaler.fit_transform(X_music)"
   ]
  },
  {
   "cell_type": "code",
   "execution_count": 6,
   "metadata": {},
   "outputs": [],
   "source": [
    "from sklearn.neighbors import NearestNeighbors\n",
    "import joblib"
   ]
  },
  {
   "cell_type": "code",
   "execution_count": 7,
   "metadata": {},
   "outputs": [
    {
     "data": {
      "text/plain": [
       "NearestNeighbors(metric='cosine')"
      ]
     },
     "execution_count": 7,
     "metadata": {},
     "output_type": "execute_result"
    }
   ],
   "source": [
    "# Train a NearestNeighbors model on music features\n",
    "nn_model = NearestNeighbors(n_neighbors=5, metric='cosine')\n",
    "nn_model.fit(X_music_scaled)"
   ]
  },
  {
   "cell_type": "code",
   "execution_count": 51,
   "metadata": {},
   "outputs": [
    {
     "name": "stdout",
     "output_type": "stream",
     "text": [
      "1/1 [==============================] - 0s 18ms/step\n",
      "Predicted Mood: fear\n",
      "Recommendations:\n",
      "                                 name              artist  \\\n",
      "1                                 23      Blonde Redhead   \n",
      "138                     Desire Lines                Lush   \n",
      "461  Sahara Love - Seven Lions Remix      Above & Beyond   \n",
      "626                     Welcome Home  Coheed and Cambria   \n",
      "358                        Mudshovel              Staind   \n",
      "\n",
      "                                                 album  \n",
      "1                                                   23  \n",
      "138                                              Split  \n",
      "461                                        Sahara Love  \n",
      "626  Good Apollo I'm Burning Star IV Volume One: Fr...  \n",
      "358                                        Dysfunction  \n"
     ]
    }
   ],
   "source": [
    "mood_labels = ['angry', 'disgust', 'fear', 'happy', 'neutral', 'sad', 'surprise']\n",
    "\n",
    "# Function to recommend music based on mood\n",
    "def recommend_music(mood_label):\n",
    "    mood_map = {\n",
    "        'happy': 'Happy',\n",
    "        'sad': 'Sad',\n",
    "        'fear': 'Sad',\n",
    "        'surprise': 'Energetic',\n",
    "        'angry': 'Energetic',\n",
    "        'disgust': 'Energetic',\n",
    "        'neutral': 'Calm'\n",
    "    }\n",
    "    \n",
    "    mood_indices = [i for i, mood in enumerate(y_music) if mood == mood_map.get(mood_label)]\n",
    "    if len(mood_indices) == 0:\n",
    "        return pd.DataFrame()  # Return empty DataFrame if no music available for this mood\n",
    "    recommended_indices = nn_model.kneighbors(X_music_scaled[mood_indices], return_distance=False)\n",
    "    return music_data.iloc[recommended_indices[0]]\n",
    "\n",
    "def load_and_preprocess_image(image_path, target_size=(48, 48)):\n",
    "    img = image.load_img(image_path, target_size=target_size)\n",
    "    img = image.img_to_array(img)\n",
    "    img = np.expand_dims(img, axis=0)\n",
    "    img = preprocess_input(img)\n",
    "    return img\n",
    "\n",
    "image_path = '../../data/test/angry/PrivateTest_88305.jpg'\n",
    "processed_image = load_and_preprocess_image(image_path)\n",
    "# Check prediction\n",
    "prediction = mood_model.predict(processed_image)\n",
    "\n",
    "# Convert prediction to mood label\n",
    "predicted_mood = mood_labels[np.argmax(prediction)]\n",
    "print(\"Predicted Mood:\", predicted_mood)\n",
    "\n",
    "# Get recommendations\n",
    "recommendations = recommend_music(predicted_mood)\n",
    "print(\"Recommendations:\\n\", recommendations[['name', 'artist', 'album']])\n"
   ]
  },
  {
   "cell_type": "code",
   "execution_count": null,
   "metadata": {},
   "outputs": [],
   "source": [
    "# Save the music recommendation model\n",
    "joblib.dump(nn_model, '../../models/music_recommender.pkl')"
   ]
  }
 ],
 "metadata": {
  "kernelspec": {
   "display_name": ".venv",
   "language": "python",
   "name": "python3"
  },
  "language_info": {
   "codemirror_mode": {
    "name": "ipython",
    "version": 3
   },
   "file_extension": ".py",
   "mimetype": "text/x-python",
   "name": "python",
   "nbconvert_exporter": "python",
   "pygments_lexer": "ipython3",
   "version": "3.8.5"
  }
 },
 "nbformat": 4,
 "nbformat_minor": 2
}
