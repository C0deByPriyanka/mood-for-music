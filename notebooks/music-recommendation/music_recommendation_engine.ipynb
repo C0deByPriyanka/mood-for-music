{
 "cells": [
  {
   "cell_type": "code",
   "execution_count": null,
   "metadata": {},
   "outputs": [],
   "source": [
    "import pandas as pd\n",
    "from sklearn.preprocessing import StandardScaler"
   ]
  },
  {
   "cell_type": "code",
   "execution_count": null,
   "metadata": {},
   "outputs": [],
   "source": [
    "# Load music data\n",
    "music_data = pd.read_csv('../../data/data_moods.csv')"
   ]
  },
  {
   "cell_type": "code",
   "execution_count": null,
   "metadata": {},
   "outputs": [],
   "source": [
    "# Feature selection\n",
    "features = ['popularity', 'length', 'danceability', 'acousticness', 'energy', \n",
    "            'instrumentalness', 'liveness', 'valence', 'loudness', \n",
    "            'speechiness', 'tempo', 'key', 'time_signature']\n",
    "X_music = music_data[features]\n",
    "y_music = music_data['mood']"
   ]
  },
  {
   "cell_type": "code",
   "execution_count": null,
   "metadata": {},
   "outputs": [],
   "source": [
    "# Normalize features\n",
    "scaler = StandardScaler()\n",
    "X_music_scaled = scaler.fit_transform(X_music)"
   ]
  },
  {
   "cell_type": "code",
   "execution_count": null,
   "metadata": {},
   "outputs": [],
   "source": [
    "from sklearn.neighbors import NearestNeighbors\n",
    "import joblib"
   ]
  },
  {
   "cell_type": "code",
   "execution_count": null,
   "metadata": {},
   "outputs": [],
   "source": [
    "# Train a NearestNeighbors model on music features\n",
    "nn_model = NearestNeighbors(n_neighbors=5, metric='cosine')\n",
    "nn_model.fit(X_music_scaled)"
   ]
  },
  {
   "cell_type": "code",
   "execution_count": null,
   "metadata": {},
   "outputs": [],
   "source": [
    "# Function to recommend music based on mood\n",
    "def recommend_music(mood_label):\n",
    "    mood_indices = [i for i, mood in enumerate(y_music) if mood == mood_label]\n",
    "    recommended_indices = nn_model.kneighbors(X_music_scaled[mood_indices], return_distance=False)\n",
    "    return music_data.iloc[recommended_indices[0]]"
   ]
  },
  {
   "cell_type": "code",
   "execution_count": null,
   "metadata": {},
   "outputs": [],
   "source": [
    "# Example: Recommend music for \"Happy\" mood\n",
    "recommendations = recommend_music(\"Happy\")\n",
    "print(recommendations[['name', 'artist', 'album']])"
   ]
  },
  {
   "cell_type": "code",
   "execution_count": null,
   "metadata": {},
   "outputs": [],
   "source": [
    "# Save the music recommendation model\n",
    "joblib.dump(nn_model, 'models/music_recommender.pkl')"
   ]
  }
 ],
 "metadata": {
  "language_info": {
   "name": "python"
  }
 },
 "nbformat": 4,
 "nbformat_minor": 2
}
