{
 "cells": [
  {
   "cell_type": "code",
   "execution_count": 1,
   "metadata": {},
   "outputs": [],
   "source": [
    "from tensorflow.keras.models import Sequential\n",
    "from tensorflow.keras.layers import Conv2D, MaxPooling2D, Flatten, Dense, Dropout\n",
    "from tensorflow.keras.preprocessing.image import ImageDataGenerator\n",
    "import numpy as np\n",
    "from tensorflow.keras.callbacks import EarlyStopping\n",
    "from sklearn.preprocessing import LabelEncoder"
   ]
  },
  {
   "cell_type": "code",
   "execution_count": 2,
   "metadata": {},
   "outputs": [],
   "source": [
    "# Load preprocessed data\n",
    "train_images = np.load('../../data/processed/train_images.npy')\n",
    "train_labels = np.load('../../data/processed/train_labels.npy')\n",
    "test_images = np.load('../../data/processed/test_images.npy')\n",
    "test_labels = np.load('../../data/processed/test_labels.npy')\n",
    "\n",
    "label_encoder = LabelEncoder()\n",
    "train_labels = label_encoder.fit_transform(train_labels)\n",
    "test_labels = label_encoder.transform(test_labels)"
   ]
  },
  {
   "cell_type": "code",
   "execution_count": 3,
   "metadata": {},
   "outputs": [],
   "source": [
    "from tensorflow.keras.regularizers import l2\n",
    "from tensorflow.keras.layers import BatchNormalization\n",
    "\n",
    "\n",
    "# Define CNN architecture\n",
    "model = Sequential([\n",
    "    Conv2D(64, (3, 3), activation='relu', input_shape=(48, 48, 3)),\n",
    "    MaxPooling2D(pool_size=(2, 2)),\n",
    "    Conv2D(128, (3, 3), activation='relu'),\n",
    "    MaxPooling2D(pool_size=(2, 2)),\n",
    "    Conv2D(256, (3, 3), activation='relu'),\n",
    "    MaxPooling2D(pool_size=(2, 2)),\n",
    "    Flatten(),\n",
    "    Dense(512, activation='relu'),\n",
    "    Dropout(0.5),\n",
    "    Dense(7, activation='softmax')\n",
    "])"
   ]
  },
  {
   "cell_type": "code",
   "execution_count": 4,
   "metadata": {},
   "outputs": [],
   "source": [
    "model.compile(optimizer='adam', loss='sparse_categorical_crossentropy', metrics=['accuracy'])"
   ]
  },
  {
   "cell_type": "code",
   "execution_count": 5,
   "metadata": {},
   "outputs": [],
   "source": [
    "# Data augmentation\n",
    "datagen = ImageDataGenerator(\n",
    "    rotation_range=20,\n",
    "    width_shift_range=0.2,\n",
    "    height_shift_range=0.2,\n",
    "    shear_range=0.2,\n",
    "    zoom_range=0.2,\n",
    "    horizontal_flip=True,\n",
    "    fill_mode='nearest'\n",
    ")"
   ]
  },
  {
   "cell_type": "code",
   "execution_count": 6,
   "metadata": {},
   "outputs": [
    {
     "name": "stdout",
     "output_type": "stream",
     "text": [
      "Epoch 1/30\n",
      "898/898 [==============================] - 161s 178ms/step - loss: 1.8101 - accuracy: 0.2516 - val_loss: 1.7847 - val_accuracy: 0.2480\n",
      "Epoch 2/30\n",
      "898/898 [==============================] - 165s 184ms/step - loss: 1.7766 - accuracy: 0.2603 - val_loss: 1.7133 - val_accuracy: 0.2927\n",
      "Epoch 3/30\n",
      "898/898 [==============================] - 157s 175ms/step - loss: 1.7365 - accuracy: 0.2854 - val_loss: 1.6069 - val_accuracy: 0.3672\n",
      "Epoch 4/30\n",
      "898/898 [==============================] - 157s 175ms/step - loss: 1.6476 - accuracy: 0.3413 - val_loss: 1.4653 - val_accuracy: 0.4342\n",
      "Epoch 5/30\n",
      "898/898 [==============================] - 156s 173ms/step - loss: 1.5614 - accuracy: 0.3863 - val_loss: 1.3994 - val_accuracy: 0.4638\n",
      "Epoch 6/30\n",
      "898/898 [==============================] - 157s 174ms/step - loss: 1.5039 - accuracy: 0.4180 - val_loss: 1.3083 - val_accuracy: 0.5049\n",
      "Epoch 7/30\n",
      "898/898 [==============================] - 157s 174ms/step - loss: 1.4611 - accuracy: 0.4353 - val_loss: 1.2950 - val_accuracy: 0.5065\n",
      "Epoch 8/30\n",
      "898/898 [==============================] - 158s 176ms/step - loss: 1.4367 - accuracy: 0.4436 - val_loss: 1.2635 - val_accuracy: 0.5160\n",
      "Epoch 9/30\n",
      "898/898 [==============================] - 157s 174ms/step - loss: 1.4154 - accuracy: 0.4546 - val_loss: 1.2658 - val_accuracy: 0.5208\n",
      "Epoch 10/30\n",
      "898/898 [==============================] - 157s 175ms/step - loss: 1.3941 - accuracy: 0.4649 - val_loss: 1.2681 - val_accuracy: 0.5143\n",
      "Epoch 11/30\n",
      "898/898 [==============================] - 157s 175ms/step - loss: 1.3848 - accuracy: 0.4696 - val_loss: 1.2382 - val_accuracy: 0.5288\n",
      "Epoch 12/30\n",
      "898/898 [==============================] - 156s 173ms/step - loss: 1.3714 - accuracy: 0.4764 - val_loss: 1.2318 - val_accuracy: 0.5357\n",
      "Epoch 13/30\n",
      "898/898 [==============================] - 155s 172ms/step - loss: 1.3552 - accuracy: 0.4845 - val_loss: 1.2217 - val_accuracy: 0.5306\n",
      "Epoch 14/30\n",
      "898/898 [==============================] - 158s 176ms/step - loss: 1.3451 - accuracy: 0.4893 - val_loss: 1.2192 - val_accuracy: 0.5408\n",
      "Epoch 15/30\n",
      "898/898 [==============================] - 157s 174ms/step - loss: 1.3407 - accuracy: 0.4902 - val_loss: 1.2063 - val_accuracy: 0.5437\n",
      "Epoch 16/30\n",
      "898/898 [==============================] - 158s 176ms/step - loss: 1.3231 - accuracy: 0.4946 - val_loss: 1.1846 - val_accuracy: 0.5493\n",
      "Epoch 17/30\n",
      "898/898 [==============================] - 156s 174ms/step - loss: 1.3199 - accuracy: 0.4968 - val_loss: 1.1824 - val_accuracy: 0.5550\n",
      "Epoch 18/30\n",
      "898/898 [==============================] - 157s 174ms/step - loss: 1.3119 - accuracy: 0.5003 - val_loss: 1.2082 - val_accuracy: 0.5495\n",
      "Epoch 19/30\n",
      "898/898 [==============================] - 156s 173ms/step - loss: 1.3114 - accuracy: 0.5042 - val_loss: 1.1681 - val_accuracy: 0.5525\n",
      "Epoch 20/30\n",
      "898/898 [==============================] - 158s 176ms/step - loss: 1.3011 - accuracy: 0.5034 - val_loss: 1.1769 - val_accuracy: 0.5592\n",
      "Epoch 21/30\n",
      "898/898 [==============================] - 158s 176ms/step - loss: 1.2991 - accuracy: 0.5052 - val_loss: 1.1597 - val_accuracy: 0.5593\n",
      "Epoch 22/30\n",
      "898/898 [==============================] - 153s 171ms/step - loss: 1.2956 - accuracy: 0.5098 - val_loss: 1.1848 - val_accuracy: 0.5503\n",
      "Epoch 23/30\n",
      "898/898 [==============================] - 155s 173ms/step - loss: 1.2925 - accuracy: 0.5080 - val_loss: 1.1697 - val_accuracy: 0.5559\n",
      "Epoch 24/30\n",
      "898/898 [==============================] - 157s 175ms/step - loss: 1.2763 - accuracy: 0.5158 - val_loss: 1.1502 - val_accuracy: 0.5653\n",
      "Epoch 25/30\n",
      "898/898 [==============================] - 157s 174ms/step - loss: 1.2827 - accuracy: 0.5157 - val_loss: 1.1548 - val_accuracy: 0.5684\n",
      "Epoch 26/30\n",
      "898/898 [==============================] - 156s 174ms/step - loss: 1.2776 - accuracy: 0.5134 - val_loss: 1.1428 - val_accuracy: 0.5651\n",
      "Epoch 27/30\n",
      "898/898 [==============================] - 156s 174ms/step - loss: 1.2771 - accuracy: 0.5137 - val_loss: 1.1505 - val_accuracy: 0.5651\n",
      "Epoch 28/30\n",
      "898/898 [==============================] - 157s 175ms/step - loss: 1.2738 - accuracy: 0.5157 - val_loss: 1.1304 - val_accuracy: 0.5730\n",
      "Epoch 29/30\n",
      "898/898 [==============================] - 156s 174ms/step - loss: 1.2679 - accuracy: 0.5175 - val_loss: 1.1539 - val_accuracy: 0.5637\n",
      "Epoch 30/30\n",
      "898/898 [==============================] - 156s 173ms/step - loss: 1.2645 - accuracy: 0.5182 - val_loss: 1.1333 - val_accuracy: 0.5723\n"
     ]
    }
   ],
   "source": [
    "# Train the model\n",
    "history = model.fit(datagen.flow(train_images, train_labels, batch_size=32),\n",
    "                    validation_data=(test_images, test_labels),\n",
    "                    epochs=30,\n",
    "                    callbacks=[EarlyStopping(monitor='val_loss', patience=3)])"
   ]
  },
  {
   "cell_type": "code",
   "execution_count": 7,
   "metadata": {},
   "outputs": [
    {
     "name": "stdout",
     "output_type": "stream",
     "text": [
      "225/225 - 6s - loss: 1.1333 - accuracy: 0.5723 - 6s/epoch - 25ms/step\n",
      "Test Accuracy: 0.5723042488098145\n"
     ]
    }
   ],
   "source": [
    "# Evaluate the model\n",
    "test_loss, test_acc = model.evaluate(test_images, test_labels, verbose=2)\n",
    "print(f'Test Accuracy: {test_acc}')"
   ]
  },
  {
   "cell_type": "code",
   "execution_count": 8,
   "metadata": {},
   "outputs": [],
   "source": [
    "# Save the trained model\n",
    "model.save('../../models/mood_cnn_model.h5')"
   ]
  }
 ],
 "metadata": {
  "kernelspec": {
   "display_name": ".venv",
   "language": "python",
   "name": "python3"
  },
  "language_info": {
   "codemirror_mode": {
    "name": "ipython",
    "version": 3
   },
   "file_extension": ".py",
   "mimetype": "text/x-python",
   "name": "python",
   "nbconvert_exporter": "python",
   "pygments_lexer": "ipython3",
   "version": "3.8.5"
  }
 },
 "nbformat": 4,
 "nbformat_minor": 2
}
