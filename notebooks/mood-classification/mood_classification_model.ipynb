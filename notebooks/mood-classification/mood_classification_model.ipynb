{
  "cells": [
    {
      "cell_type": "code",
      "execution_count": 4,
      "metadata": {
        "id": "npKIsjLPaOtn"
      },
      "outputs": [],
      "source": [
        "from tensorflow.keras.models import Sequential\n",
        "from tensorflow.keras.layers import Conv2D, MaxPooling2D, Flatten, Dense, Dropout, BatchNormalization\n",
        "from tensorflow.keras.preprocessing.image import ImageDataGenerator\n",
        "from tensorflow.keras.callbacks import EarlyStopping, ReduceLROnPlateau\n",
        "from tensorflow.keras.regularizers import l2\n",
        "import numpy as np\n",
        "from sklearn.preprocessing import LabelEncoder"
      ]
    },
    {
      "cell_type": "code",
      "execution_count": 6,
      "metadata": {
        "id": "lv6xVPBhaOts"
      },
      "outputs": [],
      "source": [
        "# Load preprocessed data\n",
        "train_images = np.load('../../data/processed/train_images.npy')\n",
        "train_labels = np.load('../../data/processed/train_labels.npy')\n",
        "test_images = np.load('../../data/processed/test_images.npy')\n",
        "test_labels = np.load('../../data/processed/test_labels.npy')\n",
        "\n",
        "label_encoder = LabelEncoder()\n",
        "train_labels = label_encoder.fit_transform(train_labels)\n",
        "test_labels = label_encoder.transform(test_labels)"
      ]
    },
    {
      "cell_type": "code",
      "execution_count": 7,
      "metadata": {
        "colab": {
          "base_uri": "https://localhost:8080/"
        },
        "id": "7K8rYeqWaOtt",
        "outputId": "fb7edd9b-ca65-4876-d5fc-469ae730c9d3"
      },
      "outputs": [
        {
          "name": "stderr",
          "output_type": "stream",
          "text": [
            "/usr/local/lib/python3.10/dist-packages/keras/src/layers/convolutional/base_conv.py:107: UserWarning: Do not pass an `input_shape`/`input_dim` argument to a layer. When using Sequential models, prefer using an `Input(shape)` object as the first layer in the model instead.\n",
            "  super().__init__(activity_regularizer=activity_regularizer, **kwargs)\n"
          ]
        }
      ],
      "source": [
        "# Define enhanced CNN architecture\n",
        "model = Sequential([\n",
        "    Conv2D(64, (3, 3), activation='relu', input_shape=(48, 48, 3), kernel_regularizer=l2(0.001)),\n",
        "    BatchNormalization(),\n",
        "    MaxPooling2D(pool_size=(2, 2)),\n",
        "\n",
        "    Conv2D(128, (3, 3), activation='relu', kernel_regularizer=l2(0.001)),\n",
        "    BatchNormalization(),\n",
        "    MaxPooling2D(pool_size=(2, 2)),\n",
        "\n",
        "    Conv2D(256, (3, 3), activation='relu', kernel_regularizer=l2(0.001)),\n",
        "    BatchNormalization(),\n",
        "    MaxPooling2D(pool_size=(2, 2)),\n",
        "\n",
        "    Conv2D(512, (3, 3), activation='relu', kernel_regularizer=l2(0.001)),\n",
        "    BatchNormalization(),\n",
        "    MaxPooling2D(pool_size=(2, 2)),\n",
        "\n",
        "    Flatten(),\n",
        "\n",
        "    Dense(1024, activation='relu'),\n",
        "    Dropout(0.6),  # Increased dropout rate\n",
        "\n",
        "    Dense(7, activation='softmax')\n",
        "])"
      ]
    },
    {
      "cell_type": "code",
      "execution_count": 8,
      "metadata": {
        "id": "UB6KZKvlaOtu"
      },
      "outputs": [],
      "source": [
        "model.compile(optimizer='adam', loss='sparse_categorical_crossentropy', metrics=['accuracy'])"
      ]
    },
    {
      "cell_type": "code",
      "execution_count": 9,
      "metadata": {
        "id": "ZicqeE4VaOtu"
      },
      "outputs": [],
      "source": [
        "# Data augmentation\n",
        "datagen = ImageDataGenerator(\n",
        "    rotation_range=20,\n",
        "    width_shift_range=0.2,\n",
        "    height_shift_range=0.2,\n",
        "    shear_range=0.2,\n",
        "    zoom_range=0.2,\n",
        "    horizontal_flip=True,\n",
        "    fill_mode='nearest'\n",
        ")\n",
        "\n",
        "# Learning rate scheduler\n",
        "lr_scheduler = ReduceLROnPlateau(monitor='val_loss', factor=0.5, patience=3, verbose=1)"
      ]
    },
    {
      "cell_type": "code",
      "execution_count": 10,
      "metadata": {
        "colab": {
          "base_uri": "https://localhost:8080/"
        },
        "id": "bX6TQ3jdaOtv",
        "outputId": "c8e3d7dd-8286-47a0-c137-d79d9ca22db5"
      },
      "outputs": [
        {
          "name": "stdout",
          "output_type": "stream",
          "text": [
            "Epoch 1/50\n"
          ]
        },
        {
          "name": "stderr",
          "output_type": "stream",
          "text": [
            "/usr/local/lib/python3.10/dist-packages/keras/src/trainers/data_adapters/py_dataset_adapter.py:121: UserWarning: Your `PyDataset` class should call `super().__init__(**kwargs)` in its constructor. `**kwargs` can include `workers`, `use_multiprocessing`, `max_queue_size`. Do not pass these arguments to `fit()`, as they will be ignored.\n",
            "  self._warn_if_super_not_called()\n"
          ]
        },
        {
          "name": "stdout",
          "output_type": "stream",
          "text": [
            "\u001b[1m898/898\u001b[0m \u001b[32m━━━━━━━━━━━━━━━━━━━━\u001b[0m\u001b[37m\u001b[0m \u001b[1m58s\u001b[0m 52ms/step - accuracy: 0.2221 - loss: 2.8082 - val_accuracy: 0.2757 - val_loss: 2.3088 - learning_rate: 0.0010\n",
            "Epoch 2/50\n",
            "\u001b[1m898/898\u001b[0m \u001b[32m━━━━━━━━━━━━━━━━━━━━\u001b[0m\u001b[37m\u001b[0m \u001b[1m39s\u001b[0m 43ms/step - accuracy: 0.2985 - loss: 2.0680 - val_accuracy: 0.3578 - val_loss: 1.9981 - learning_rate: 0.0010\n",
            "Epoch 3/50\n",
            "\u001b[1m898/898\u001b[0m \u001b[32m━━━━━━━━━━━━━━━━━━━━\u001b[0m\u001b[37m\u001b[0m \u001b[1m43s\u001b[0m 48ms/step - accuracy: 0.3468 - loss: 1.9881 - val_accuracy: 0.3494 - val_loss: 1.9995 - learning_rate: 0.0010\n",
            "Epoch 4/50\n",
            "\u001b[1m898/898\u001b[0m \u001b[32m━━━━━━━━━━━━━━━━━━━━\u001b[0m\u001b[37m\u001b[0m \u001b[1m37s\u001b[0m 41ms/step - accuracy: 0.3666 - loss: 1.9641 - val_accuracy: 0.3260 - val_loss: 2.1224 - learning_rate: 0.0010\n",
            "Epoch 5/50\n",
            "\u001b[1m898/898\u001b[0m \u001b[32m━━━━━━━━━━━━━━━━━━━━\u001b[0m\u001b[37m\u001b[0m \u001b[1m42s\u001b[0m 42ms/step - accuracy: 0.3856 - loss: 1.9502 - val_accuracy: 0.4408 - val_loss: 1.7759 - learning_rate: 0.0010\n",
            "Epoch 6/50\n",
            "\u001b[1m898/898\u001b[0m \u001b[32m━━━━━━━━━━━━━━━━━━━━\u001b[0m\u001b[37m\u001b[0m \u001b[1m39s\u001b[0m 43ms/step - accuracy: 0.3927 - loss: 1.9167 - val_accuracy: 0.4019 - val_loss: 1.8636 - learning_rate: 0.0010\n",
            "Epoch 7/50\n",
            "\u001b[1m898/898\u001b[0m \u001b[32m━━━━━━━━━━━━━━━━━━━━\u001b[0m\u001b[37m\u001b[0m \u001b[1m39s\u001b[0m 41ms/step - accuracy: 0.4135 - loss: 1.8549 - val_accuracy: 0.4621 - val_loss: 1.7212 - learning_rate: 0.0010\n",
            "Epoch 8/50\n",
            "\u001b[1m898/898\u001b[0m \u001b[32m━━━━━━━━━━━━━━━━━━━━\u001b[0m\u001b[37m\u001b[0m \u001b[1m43s\u001b[0m 43ms/step - accuracy: 0.4267 - loss: 1.8131 - val_accuracy: 0.4057 - val_loss: 1.8900 - learning_rate: 0.0010\n",
            "Epoch 9/50\n",
            "\u001b[1m898/898\u001b[0m \u001b[32m━━━━━━━━━━━━━━━━━━━━\u001b[0m\u001b[37m\u001b[0m \u001b[1m37s\u001b[0m 41ms/step - accuracy: 0.4322 - loss: 1.7947 - val_accuracy: 0.4620 - val_loss: 1.6833 - learning_rate: 0.0010\n",
            "Epoch 10/50\n",
            "\u001b[1m898/898\u001b[0m \u001b[32m━━━━━━━━━━━━━━━━━━━━\u001b[0m\u001b[37m\u001b[0m \u001b[1m37s\u001b[0m 41ms/step - accuracy: 0.4315 - loss: 1.7767 - val_accuracy: 0.4731 - val_loss: 1.6546 - learning_rate: 0.0010\n",
            "Epoch 11/50\n",
            "\u001b[1m898/898\u001b[0m \u001b[32m━━━━━━━━━━━━━━━━━━━━\u001b[0m\u001b[37m\u001b[0m \u001b[1m37s\u001b[0m 41ms/step - accuracy: 0.4454 - loss: 1.7292 - val_accuracy: 0.4667 - val_loss: 1.6322 - learning_rate: 0.0010\n",
            "Epoch 12/50\n",
            "\u001b[1m898/898\u001b[0m \u001b[32m━━━━━━━━━━━━━━━━━━━━\u001b[0m\u001b[37m\u001b[0m \u001b[1m38s\u001b[0m 42ms/step - accuracy: 0.4439 - loss: 1.7014 - val_accuracy: 0.4851 - val_loss: 1.5752 - learning_rate: 0.0010\n",
            "Epoch 13/50\n",
            "\u001b[1m898/898\u001b[0m \u001b[32m━━━━━━━━━━━━━━━━━━━━\u001b[0m\u001b[37m\u001b[0m \u001b[1m38s\u001b[0m 42ms/step - accuracy: 0.4621 - loss: 1.6575 - val_accuracy: 0.4806 - val_loss: 1.5759 - learning_rate: 0.0010\n",
            "Epoch 14/50\n",
            "\u001b[1m898/898\u001b[0m \u001b[32m━━━━━━━━━━━━━━━━━━━━\u001b[0m\u001b[37m\u001b[0m \u001b[1m36s\u001b[0m 40ms/step - accuracy: 0.4656 - loss: 1.6400 - val_accuracy: 0.4777 - val_loss: 1.5786 - learning_rate: 0.0010\n",
            "Epoch 15/50\n",
            "\u001b[1m898/898\u001b[0m \u001b[32m━━━━━━━━━━━━━━━━━━━━\u001b[0m\u001b[37m\u001b[0m \u001b[1m39s\u001b[0m 43ms/step - accuracy: 0.4669 - loss: 1.6249 - val_accuracy: 0.4813 - val_loss: 1.5521 - learning_rate: 0.0010\n",
            "Epoch 16/50\n",
            "\u001b[1m898/898\u001b[0m \u001b[32m━━━━━━━━━━━━━━━━━━━━\u001b[0m\u001b[37m\u001b[0m \u001b[1m38s\u001b[0m 42ms/step - accuracy: 0.4640 - loss: 1.6163 - val_accuracy: 0.4795 - val_loss: 1.5941 - learning_rate: 0.0010\n",
            "Epoch 17/50\n",
            "\u001b[1m898/898\u001b[0m \u001b[32m━━━━━━━━━━━━━━━━━━━━\u001b[0m\u001b[37m\u001b[0m \u001b[1m41s\u001b[0m 42ms/step - accuracy: 0.4693 - loss: 1.6055 - val_accuracy: 0.5118 - val_loss: 1.4665 - learning_rate: 0.0010\n",
            "Epoch 18/50\n",
            "\u001b[1m898/898\u001b[0m \u001b[32m━━━━━━━━━━━━━━━━━━━━\u001b[0m\u001b[37m\u001b[0m \u001b[1m41s\u001b[0m 42ms/step - accuracy: 0.4789 - loss: 1.5673 - val_accuracy: 0.4957 - val_loss: 1.5232 - learning_rate: 0.0010\n",
            "Epoch 19/50\n",
            "\u001b[1m898/898\u001b[0m \u001b[32m━━━━━━━━━━━━━━━━━━━━\u001b[0m\u001b[37m\u001b[0m \u001b[1m40s\u001b[0m 41ms/step - accuracy: 0.4788 - loss: 1.5588 - val_accuracy: 0.5045 - val_loss: 1.4809 - learning_rate: 0.0010\n",
            "Epoch 20/50\n",
            "\u001b[1m898/898\u001b[0m \u001b[32m━━━━━━━━━━━━━━━━━━━━\u001b[0m\u001b[37m\u001b[0m \u001b[1m40s\u001b[0m 40ms/step - accuracy: 0.4791 - loss: 1.5540 - val_accuracy: 0.5312 - val_loss: 1.4314 - learning_rate: 0.0010\n",
            "Epoch 21/50\n",
            "\u001b[1m898/898\u001b[0m \u001b[32m━━━━━━━━━━━━━━━━━━━━\u001b[0m\u001b[37m\u001b[0m \u001b[1m38s\u001b[0m 42ms/step - accuracy: 0.4822 - loss: 1.5360 - val_accuracy: 0.5242 - val_loss: 1.4079 - learning_rate: 0.0010\n",
            "Epoch 22/50\n",
            "\u001b[1m898/898\u001b[0m \u001b[32m━━━━━━━━━━━━━━━━━━━━\u001b[0m\u001b[37m\u001b[0m \u001b[1m41s\u001b[0m 43ms/step - accuracy: 0.4804 - loss: 1.5361 - val_accuracy: 0.4947 - val_loss: 1.4891 - learning_rate: 0.0010\n",
            "Epoch 23/50\n",
            "\u001b[1m898/898\u001b[0m \u001b[32m━━━━━━━━━━━━━━━━━━━━\u001b[0m\u001b[37m\u001b[0m \u001b[1m40s\u001b[0m 42ms/step - accuracy: 0.4884 - loss: 1.5271 - val_accuracy: 0.5174 - val_loss: 1.4142 - learning_rate: 0.0010\n",
            "Epoch 24/50\n",
            "\u001b[1m898/898\u001b[0m \u001b[32m━━━━━━━━━━━━━━━━━━━━\u001b[0m\u001b[37m\u001b[0m \u001b[1m38s\u001b[0m 42ms/step - accuracy: 0.4962 - loss: 1.5017 - val_accuracy: 0.5304 - val_loss: 1.3963 - learning_rate: 0.0010\n",
            "Epoch 25/50\n",
            "\u001b[1m898/898\u001b[0m \u001b[32m━━━━━━━━━━━━━━━━━━━━\u001b[0m\u001b[37m\u001b[0m \u001b[1m41s\u001b[0m 41ms/step - accuracy: 0.4837 - loss: 1.5218 - val_accuracy: 0.5178 - val_loss: 1.4304 - learning_rate: 0.0010\n",
            "Epoch 26/50\n",
            "\u001b[1m898/898\u001b[0m \u001b[32m━━━━━━━━━━━━━━━━━━━━\u001b[0m\u001b[37m\u001b[0m \u001b[1m37s\u001b[0m 41ms/step - accuracy: 0.4973 - loss: 1.5056 - val_accuracy: 0.5230 - val_loss: 1.4292 - learning_rate: 0.0010\n",
            "Epoch 27/50\n",
            "\u001b[1m896/898\u001b[0m \u001b[32m━━━━━━━━━━━━━━━━━━━\u001b[0m\u001b[37m━\u001b[0m \u001b[1m0s\u001b[0m 41ms/step - accuracy: 0.4988 - loss: 1.4879\n",
            "Epoch 27: ReduceLROnPlateau reducing learning rate to 0.0005000000237487257.\n",
            "\u001b[1m898/898\u001b[0m \u001b[32m━━━━━━━━━━━━━━━━━━━━\u001b[0m\u001b[37m\u001b[0m \u001b[1m37s\u001b[0m 41ms/step - accuracy: 0.4988 - loss: 1.4880 - val_accuracy: 0.4993 - val_loss: 1.4772 - learning_rate: 0.0010\n",
            "Epoch 28/50\n",
            "\u001b[1m898/898\u001b[0m \u001b[32m━━━━━━━━━━━━━━━━━━━━\u001b[0m\u001b[37m\u001b[0m \u001b[1m35s\u001b[0m 39ms/step - accuracy: 0.5106 - loss: 1.4513 - val_accuracy: 0.5405 - val_loss: 1.3337 - learning_rate: 5.0000e-04\n",
            "Epoch 29/50\n",
            "\u001b[1m898/898\u001b[0m \u001b[32m━━━━━━━━━━━━━━━━━━━━\u001b[0m\u001b[37m\u001b[0m \u001b[1m39s\u001b[0m 43ms/step - accuracy: 0.5252 - loss: 1.4047 - val_accuracy: 0.5617 - val_loss: 1.2827 - learning_rate: 5.0000e-04\n",
            "Epoch 30/50\n",
            "\u001b[1m898/898\u001b[0m \u001b[32m━━━━━━━━━━━━━━━━━━━━\u001b[0m\u001b[37m\u001b[0m \u001b[1m38s\u001b[0m 42ms/step - accuracy: 0.5256 - loss: 1.3957 - val_accuracy: 0.5531 - val_loss: 1.3563 - learning_rate: 5.0000e-04\n",
            "Epoch 31/50\n",
            "\u001b[1m898/898\u001b[0m \u001b[32m━━━━━━━━━━━━━━━━━━━━\u001b[0m\u001b[37m\u001b[0m \u001b[1m36s\u001b[0m 40ms/step - accuracy: 0.5288 - loss: 1.3846 - val_accuracy: 0.5701 - val_loss: 1.2907 - learning_rate: 5.0000e-04\n",
            "Epoch 32/50\n",
            "\u001b[1m896/898\u001b[0m \u001b[32m━━━━━━━━━━━━━━━━━━━\u001b[0m\u001b[37m━\u001b[0m \u001b[1m0s\u001b[0m 40ms/step - accuracy: 0.5286 - loss: 1.3803\n",
            "Epoch 32: ReduceLROnPlateau reducing learning rate to 0.0002500000118743628.\n",
            "\u001b[1m898/898\u001b[0m \u001b[32m━━━━━━━━━━━━━━━━━━━━\u001b[0m\u001b[37m\u001b[0m \u001b[1m42s\u001b[0m 41ms/step - accuracy: 0.5286 - loss: 1.3803 - val_accuracy: 0.5609 - val_loss: 1.3116 - learning_rate: 5.0000e-04\n",
            "Epoch 33/50\n",
            "\u001b[1m898/898\u001b[0m \u001b[32m━━━━━━━━━━━━━━━━━━━━\u001b[0m\u001b[37m\u001b[0m \u001b[1m39s\u001b[0m 43ms/step - accuracy: 0.5365 - loss: 1.3552 - val_accuracy: 0.5818 - val_loss: 1.2210 - learning_rate: 2.5000e-04\n",
            "Epoch 34/50\n",
            "\u001b[1m898/898\u001b[0m \u001b[32m━━━━━━━━━━━━━━━━━━━━\u001b[0m\u001b[37m\u001b[0m \u001b[1m40s\u001b[0m 42ms/step - accuracy: 0.5448 - loss: 1.3313 - val_accuracy: 0.5776 - val_loss: 1.2301 - learning_rate: 2.5000e-04\n",
            "Epoch 35/50\n",
            "\u001b[1m898/898\u001b[0m \u001b[32m━━━━━━━━━━━━━━━━━━━━\u001b[0m\u001b[37m\u001b[0m \u001b[1m37s\u001b[0m 41ms/step - accuracy: 0.5477 - loss: 1.3169 - val_accuracy: 0.5903 - val_loss: 1.1955 - learning_rate: 2.5000e-04\n",
            "Epoch 36/50\n",
            "\u001b[1m898/898\u001b[0m \u001b[32m━━━━━━━━━━━━━━━━━━━━\u001b[0m\u001b[37m\u001b[0m \u001b[1m38s\u001b[0m 42ms/step - accuracy: 0.5554 - loss: 1.2919 - val_accuracy: 0.5862 - val_loss: 1.2103 - learning_rate: 2.5000e-04\n",
            "Epoch 37/50\n",
            "\u001b[1m898/898\u001b[0m \u001b[32m━━━━━━━━━━━━━━━━━━━━\u001b[0m\u001b[37m\u001b[0m \u001b[1m38s\u001b[0m 42ms/step - accuracy: 0.5441 - loss: 1.3083 - val_accuracy: 0.5880 - val_loss: 1.2002 - learning_rate: 2.5000e-04\n",
            "Epoch 38/50\n",
            "\u001b[1m895/898\u001b[0m \u001b[32m━━━━━━━━━━━━━━━━━━━\u001b[0m\u001b[37m━\u001b[0m \u001b[1m0s\u001b[0m 40ms/step - accuracy: 0.5540 - loss: 1.2939\n",
            "Epoch 38: ReduceLROnPlateau reducing learning rate to 0.0001250000059371814.\n",
            "\u001b[1m898/898\u001b[0m \u001b[32m━━━━━━━━━━━━━━━━━━━━\u001b[0m\u001b[37m\u001b[0m \u001b[1m37s\u001b[0m 41ms/step - accuracy: 0.5540 - loss: 1.2939 - val_accuracy: 0.5651 - val_loss: 1.2504 - learning_rate: 2.5000e-04\n",
            "Epoch 39/50\n",
            "\u001b[1m898/898\u001b[0m \u001b[32m━━━━━━━━━━━━━━━━━━━━\u001b[0m\u001b[37m\u001b[0m \u001b[1m38s\u001b[0m 42ms/step - accuracy: 0.5561 - loss: 1.2791 - val_accuracy: 0.5903 - val_loss: 1.1758 - learning_rate: 1.2500e-04\n",
            "Epoch 40/50\n",
            "\u001b[1m898/898\u001b[0m \u001b[32m━━━━━━━━━━━━━━━━━━━━\u001b[0m\u001b[37m\u001b[0m \u001b[1m38s\u001b[0m 42ms/step - accuracy: 0.5658 - loss: 1.2612 - val_accuracy: 0.5929 - val_loss: 1.1744 - learning_rate: 1.2500e-04\n",
            "Epoch 41/50\n",
            "\u001b[1m898/898\u001b[0m \u001b[32m━━━━━━━━━━━━━━━━━━━━\u001b[0m\u001b[37m\u001b[0m \u001b[1m40s\u001b[0m 41ms/step - accuracy: 0.5630 - loss: 1.2578 - val_accuracy: 0.5946 - val_loss: 1.1758 - learning_rate: 1.2500e-04\n",
            "Epoch 42/50\n",
            "\u001b[1m898/898\u001b[0m \u001b[32m━━━━━━━━━━━━━━━━━━━━\u001b[0m\u001b[37m\u001b[0m \u001b[1m37s\u001b[0m 41ms/step - accuracy: 0.5652 - loss: 1.2566 - val_accuracy: 0.6043 - val_loss: 1.1524 - learning_rate: 1.2500e-04\n",
            "Epoch 43/50\n",
            "\u001b[1m898/898\u001b[0m \u001b[32m━━━━━━━━━━━━━━━━━━━━\u001b[0m\u001b[37m\u001b[0m \u001b[1m41s\u001b[0m 40ms/step - accuracy: 0.5655 - loss: 1.2528 - val_accuracy: 0.6000 - val_loss: 1.1579 - learning_rate: 1.2500e-04\n",
            "Epoch 44/50\n",
            "\u001b[1m898/898\u001b[0m \u001b[32m━━━━━━━━━━━━━━━━━━━━\u001b[0m\u001b[37m\u001b[0m \u001b[1m38s\u001b[0m 42ms/step - accuracy: 0.5690 - loss: 1.2375 - val_accuracy: 0.5907 - val_loss: 1.1642 - learning_rate: 1.2500e-04\n",
            "Epoch 45/50\n",
            "\u001b[1m898/898\u001b[0m \u001b[32m━━━━━━━━━━━━━━━━━━━━\u001b[0m\u001b[37m\u001b[0m \u001b[1m36s\u001b[0m 40ms/step - accuracy: 0.5649 - loss: 1.2473 - val_accuracy: 0.6037 - val_loss: 1.1480 - learning_rate: 1.2500e-04\n",
            "Epoch 46/50\n",
            "\u001b[1m898/898\u001b[0m \u001b[32m━━━━━━━━━━━━━━━━━━━━\u001b[0m\u001b[37m\u001b[0m \u001b[1m41s\u001b[0m 40ms/step - accuracy: 0.5690 - loss: 1.2298 - val_accuracy: 0.6004 - val_loss: 1.1548 - learning_rate: 1.2500e-04\n",
            "Epoch 47/50\n",
            "\u001b[1m898/898\u001b[0m \u001b[32m━━━━━━━━━━━━━━━━━━━━\u001b[0m\u001b[37m\u001b[0m \u001b[1m36s\u001b[0m 39ms/step - accuracy: 0.5718 - loss: 1.2296 - val_accuracy: 0.6066 - val_loss: 1.1506 - learning_rate: 1.2500e-04\n",
            "Epoch 48/50\n",
            "\u001b[1m898/898\u001b[0m \u001b[32m━━━━━━━━━━━━━━━━━━━━\u001b[0m\u001b[37m\u001b[0m \u001b[1m0s\u001b[0m 40ms/step - accuracy: 0.5745 - loss: 1.2248\n",
            "Epoch 48: ReduceLROnPlateau reducing learning rate to 6.25000029685907e-05.\n",
            "\u001b[1m898/898\u001b[0m \u001b[32m━━━━━━━━━━━━━━━━━━━━\u001b[0m\u001b[37m\u001b[0m \u001b[1m37s\u001b[0m 41ms/step - accuracy: 0.5745 - loss: 1.2248 - val_accuracy: 0.5989 - val_loss: 1.1538 - learning_rate: 1.2500e-04\n",
            "Epoch 49/50\n",
            "\u001b[1m898/898\u001b[0m \u001b[32m━━━━━━━━━━━━━━━━━━━━\u001b[0m\u001b[37m\u001b[0m \u001b[1m35s\u001b[0m 38ms/step - accuracy: 0.5724 - loss: 1.2310 - val_accuracy: 0.6095 - val_loss: 1.1350 - learning_rate: 6.2500e-05\n",
            "Epoch 50/50\n",
            "\u001b[1m898/898\u001b[0m \u001b[32m━━━━━━━━━━━━━━━━━━━━\u001b[0m\u001b[37m\u001b[0m \u001b[1m42s\u001b[0m 39ms/step - accuracy: 0.5764 - loss: 1.2117 - val_accuracy: 0.6076 - val_loss: 1.1272 - learning_rate: 6.2500e-05\n"
          ]
        }
      ],
      "source": [
        "# Train the model with early stopping and learning rate scheduling\n",
        "history = model.fit(datagen.flow(train_images, train_labels, batch_size=32),\n",
        "                    validation_data=(test_images, test_labels),\n",
        "                    epochs=50,\n",
        "                    callbacks=[EarlyStopping(monitor='val_loss', patience=5), lr_scheduler])"
      ]
    },
    {
      "cell_type": "code",
      "execution_count": 11,
      "metadata": {
        "colab": {
          "base_uri": "https://localhost:8080/"
        },
        "id": "obVkQIXcaOtw",
        "outputId": "b94e6f6e-d149-41dd-bff5-ef8fe28f975e"
      },
      "outputs": [
        {
          "name": "stdout",
          "output_type": "stream",
          "text": [
            "225/225 - 1s - 5ms/step - accuracy: 0.6076 - loss: 1.1272\n",
            "Test Accuracy: 0.607550859451294\n"
          ]
        }
      ],
      "source": [
        "# Evaluate the model\n",
        "test_loss, test_acc = model.evaluate(test_images, test_labels, verbose=2)\n",
        "print(f'Test Accuracy: {test_acc}')"
      ]
    },
    {
      "cell_type": "code",
      "execution_count": 12,
      "metadata": {
        "colab": {
          "base_uri": "https://localhost:8080/"
        },
        "id": "gbvJXqWraOtx",
        "outputId": "be6a5525-f1c2-401f-ac8d-f3dfdff820d3"
      },
      "outputs": [
        {
          "name": "stderr",
          "output_type": "stream",
          "text": [
            "WARNING:absl:You are saving your model as an HDF5 file via `model.save()` or `keras.saving.save_model(model)`. This file format is considered legacy. We recommend using instead the native Keras format, e.g. `model.save('my_model.keras')` or `keras.saving.save_model(model, 'my_model.keras')`. \n"
          ]
        }
      ],
      "source": [
        "# Save the trained model\n",
        "model.save('../../models/mood_cnn_model.h5')"
      ]
    }
  ],
  "metadata": {
    "accelerator": "GPU",
    "colab": {
      "gpuType": "T4",
      "provenance": []
    },
    "kernelspec": {
      "display_name": "Python 3",
      "name": "python3"
    },
    "language_info": {
      "codemirror_mode": {
        "name": "ipython",
        "version": 3
      },
      "file_extension": ".py",
      "mimetype": "text/x-python",
      "name": "python",
      "nbconvert_exporter": "python",
      "pygments_lexer": "ipython3",
      "version": "3.8.5"
    }
  },
  "nbformat": 4,
  "nbformat_minor": 0
}
