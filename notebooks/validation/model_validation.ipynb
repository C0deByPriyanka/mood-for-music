{
 "cells": [
  {
   "cell_type": "code",
   "execution_count": null,
   "metadata": {},
   "outputs": [],
   "source": [
    "\n",
    "import numpy as np\n",
    "import joblib\n",
    "from sklearn.metrics import classification_report, accuracy_score"
   ]
  },
  {
   "cell_type": "code",
   "execution_count": null,
   "metadata": {},
   "outputs": [],
   "source": [
    "# Load the trained model\n",
    "clf = joblib.load('../models/mood_classifier.pkl')"
   ]
  },
  {
   "cell_type": "code",
   "execution_count": null,
   "metadata": {},
   "outputs": [],
   "source": [
    "# Load the test features and labels\n",
    "test_features_flat = np.load('../data/processed/test_features.npy')\n",
    "test_labels = np.load('../data/processed/test_labels.npy')"
   ]
  },
  {
   "cell_type": "code",
   "execution_count": null,
   "metadata": {},
   "outputs": [],
   "source": [
    "# Evaluate the model on the test set\n",
    "y_pred = clf.predict(test_features_flat)\n",
    "print(\"Test Accuracy:\", accuracy_score(test_labels, y_pred))\n",
    "print(classification_report(test_labels, y_pred))"
   ]
  },
  {
   "cell_type": "code",
   "execution_count": null,
   "metadata": {},
   "outputs": [],
   "source": [
    "# Import the recommend_music function\n",
    "import sys\n",
    "sys.path.append('../scripts')  # Adjust path if necessary\n",
    "from music_recommendation import recommend_music"
   ]
  },
  {
   "cell_type": "code",
   "execution_count": null,
   "metadata": {},
   "outputs": [],
   "source": [
    "# Example: Get music recommendations based on predicted mood\n",
    "for mood in np.unique(test_labels):\n",
    "    print(f\"Music recommendations for mood '{mood}':\")\n",
    "    music_recommendations = recommend_music(mood)\n",
    "    print(music_recommendations)"
   ]
  }
 ],
 "metadata": {
  "language_info": {
   "name": "python"
  }
 },
 "nbformat": 4,
 "nbformat_minor": 2
}
